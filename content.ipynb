{
 "cells": [
  {
   "cell_type": "markdown",
   "metadata": {},
   "source": [
    "### สรุปโหมดหลักของเซิร์ฟเวอร์ Socket\n",
    "<li>Initial/Unbound Mode: สร้าง socket แต่ยังไม่ได้ Bind</li>\n",
    "<li>Bound Mode: Socket ถูก Bind กับ Address และ Port</li>\n",
    "<li>Listening Mode: รอการเชื่อมต่อจากไคลเอนต์</li>\n",
    "<li>Accepting Mode: ยอมรับการเชื่อมต่อจากไคลเอนต์</li>\n",
    "<li>Communicating Mode: แลกเปลี่ยนข้อมูลกับไคลเอนต์</li>\n",
    "<li>Closed Mode: ปิดการเชื่อมต่อ</li>"
   ]
  },
  {
   "cell_type": "markdown",
   "metadata": {},
   "source": [
    "<hr>"
   ]
  },
  {
   "cell_type": "markdown",
   "metadata": {},
   "source": [
    "<li>1 Initial/Unbound Mode</li>\n",
    "<li>Description :เป็นสถานะที่เกิดขึ้นเมื่อ เราพึ่งจะสร้าง Socket ใหม่ๆ ยังไม่ได้ทำอะไรทั้งสิ้น (ยังไม่ได้ bind กับ Address อื่นๆ)</li>\n",
    "<li>Importand : Socket ที่ยังไม่ได้เชื่อม IP Address หรือ Port ใดๆ</li>\n",
    "<li>ตัวอย่าง</li>\n",
    "<pre>\n",
    "    <code>s = socket.socket(socket.AF_INET, socket.SOCK_STREAM)</code>\n",
    "</pre>"
   ]
  },
  {
   "cell_type": "markdown",
   "metadata": {},
   "source": [
    "<hr>"
   ]
  },
  {
   "cell_type": "markdown",
   "metadata": {},
   "source": [
    "<li>2 Bound Mode</li>\n",
    "<li>Description : เมื่อ socket ถูก bind กับ IP Address และ Port เรียบร้อยแล้ว</li>\n",
    "<li>Importand : ระบุว่า socket นี้จะรับหรือส่งข้อมูลผ่าน Address และ Port ไหน</li>\n",
    "<li>ตัวอย่าง</li>\n",
    "<pre>\n",
    "    <code>s.bind((\"127.0.0.1\", 8080))</code>\n",
    "</pre>"
   ]
  },
  {
   "cell_type": "markdown",
   "metadata": {},
   "source": [
    "<hr>"
   ]
  },
  {
   "cell_type": "markdown",
   "metadata": {},
   "source": [
    "<li>3 Listen mode</li>\n",
    "<li>Description : หลังจาก Bind Server แล้วจะเข้าสู่โหมด \"Listening\" เพื่อรอการเชื่อมต่อมาจาก Client</li>\n",
    "<li>Importand : <ul>\n",
    "    <li>ใช้ ฟังก์ชั่น listend() เพื่อเริ่มรอการเชื่อมต่อ</li>\n",
    "    <li>สามารถกำหนด จำนวนคิวที่รอสำหรับ การเชื่อมต่อได้</li>\n",
    "    <li>Socket จะไม่รับข้อมูลกันจนกว่าที่จะยอมรับได้</li>\n",
    "</ul></li>\n",
    "<li>ตัวอย่าง</li>\n",
    "<pre>\n",
    "    <code>s.listen(5)</code>\n",
    "</pre>"
   ]
  },
  {
   "cell_type": "markdown",
   "metadata": {},
   "source": [
    "<hr>"
   ]
  },
  {
   "cell_type": "markdown",
   "metadata": {},
   "source": [
    "<li>4 Accepting Mode</li>\n",
    "<li>Description : เมื่อมี Clinent พยายามเชื่อมต่อ server socket สำหรับการสื่อสาร Client</li>\n",
    "<li>Importand : <ul>\n",
    "    <li>ใช้ฟังก์ชัน accept() เพื่อสร้าง socket ใหม่สำหรับการสื่อสารกับ Client</li>\n",
    "    <li>Socket เมื่อเข้าสู่โหมดนี้สามารถเริ่มการส่งข้อความได้</li>\n",
    "</ul></li>\n",
    "<li>ตัวอย่าง</li>\n",
    "<pre>\n",
    "    <code>conn, addr = s.accept()</code>\n",
    "</pre>\n",
    "<li>Comment<ul>\n",
    "    <li>conn = socket ใหม่</li>\n",
    "    <li>addr = address ของ Client</li>\n",
    "</ul></li>"
   ]
  },
  {
   "cell_type": "markdown",
   "metadata": {},
   "source": [
    "<hr>"
   ]
  },
  {
   "cell_type": "markdown",
   "metadata": {},
   "source": [
    "<li>5 Communication mode</li>\n",
    "<li>หลังจากยอมรับการเชื่อมต่อแล้ว server และ client สามาระแลกเปลี่ยนข้อมูลกันได้</li>\n",
    "<li>Importand : <ul>\n",
    "    <li>รับ-ส่งข้อมูลผ่าน Socket ที่ถูกสร้างจาก accept()</li>\n",
    "    <li><code>ใช้ฟังก์ชั่น recv() และ send() ในการรับส่งข้อมูล</code></li>\n",
    "</ul></li>\n",
    "<li>ตัวอย่าง<ul>\n",
    "    <li><code>data = conn.recv(1024)</code></li>\n",
    "    <li><code>conn.send(b\"Hello client!\")</code></li>\n",
    "</ul></li>"
   ]
  },
  {
   "cell_type": "markdown",
   "metadata": {},
   "source": [
    "##### Communication mode\n",
    "<li>เป็นโหมดสำหรับการสื่อสารจริงๆ<ul>\n",
    "    <li>recv() : รับข้อมูลจาก Clinet</li>\n",
    "    <li>send() : ส่งข้อมูลจาก Server -> Client</li>\n",
    "    <li>recvform() : UDP คืนค่าพร้อม Address ผู้ส่ง</li>\n",
    "    <li>sendto() : UDP ส่งข้อมูลไปยัง Addres ที่ระบุ</li>\n",
    "</ul></li>"
   ]
  },
  {
   "cell_type": "markdown",
   "metadata": {},
   "source": [
    "<hr>"
   ]
  },
  {
   "cell_type": "markdown",
   "metadata": {},
   "source": [
    "<li>6 Close mode</li>\n",
    "<li>ใช้สำหรับการปิด socket</li>\n",
    "<li>Importand : <ul>\n",
    "    <li>ใช้ฟังก์ชัน close() เพื่อปิดการเชื่อมต่อ</li>\n",
    "    <li><code>หลังจากปิด Socket จะไม่สามารถรับหรือส่งข้อมูลได้อีก</code></li>\n",
    "</ul></li>\n",
    "<li>ตัวอย่าง<ul>\n",
    "    <li><code>conn.close()</code></li>\n",
    "    <li><code>s.close()</code></li>\n",
    "</ul></li>"
   ]
  },
  {
   "cell_type": "markdown",
   "metadata": {},
   "source": [
    "<hr>"
   ]
  },
  {
   "cell_type": "markdown",
   "metadata": {},
   "source": []
  }
 ],
 "metadata": {
  "language_info": {
   "name": "python"
  }
 },
 "nbformat": 4,
 "nbformat_minor": 2
}
